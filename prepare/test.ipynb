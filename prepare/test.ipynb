{
 "cells": [
  {
   "cell_type": "code",
   "execution_count": 41,
   "id": "informed-efficiency",
   "metadata": {},
   "outputs": [],
   "source": [
    "import torch\n",
    "import torchtext.vocab as vocab\n",
    "import os\n",
    "import tqdm\n",
    "import time\n",
    "import json\n",
    "import numpy as np\n",
    "import pickle as pkl"
   ]
  },
  {
   "cell_type": "code",
   "execution_count": 7,
   "id": "temporal-price",
   "metadata": {},
   "outputs": [],
   "source": [
    "vec = vocab.GloVe(name='6B', dim=300)"
   ]
  },
  {
   "cell_type": "code",
   "execution_count": 43,
   "id": "significant-monitor",
   "metadata": {},
   "outputs": [],
   "source": [
    "filepath = '/home/mmc_hliu/EmoRC/MEmoR/data/videos'\n",
    "file_video_label = '/home/mmc_hliu/EmoRC/video-classification-3d-cnn-pytorch/memor.json'\n",
    "file_video_feature = '/home/mmc_hliu/EmoRC/video-classification-3d-cnn-pytorch/memor_feature.json'\n",
    "file_label_name = '/home/mmc_hliu/EmoRC/MEmoR/data/labels_name.json'\n",
    "file_label_embedding = '/home/mmc_hliu/EmoRC/MEmoR/data/embedding_name.pkl'"
   ]
  },
  {
   "cell_type": "code",
   "execution_count": 9,
   "id": "sized-citizenship",
   "metadata": {},
   "outputs": [
    {
     "data": {
      "text/plain": [
       "5502"
      ]
     },
     "execution_count": 9,
     "metadata": {},
     "output_type": "execute_result"
    }
   ],
   "source": [
    "files = os.listdir(filepath)\n",
    "files = sorted(files)\n",
    "len(files)"
   ]
  },
  {
   "cell_type": "code",
   "execution_count": 10,
   "id": "hispanic-instruction",
   "metadata": {},
   "outputs": [
    {
     "data": {
      "text/plain": [
       "5502"
      ]
     },
     "execution_count": 10,
     "metadata": {},
     "output_type": "execute_result"
    }
   ],
   "source": [
    "with open(file_video_label, 'rb') as file:\n",
    "    json_video_label = json.load(file)\n",
    "    \n",
    "len(json_video_label)"
   ]
  },
  {
   "cell_type": "code",
   "execution_count": 30,
   "id": "straight-process",
   "metadata": {},
   "outputs": [
    {
     "data": {
      "text/plain": [
       "26"
      ]
     },
     "execution_count": 30,
     "metadata": {},
     "output_type": "execute_result"
    }
   ],
   "source": [
    "test = json_video_label[0]\n",
    "len(test['clips'])"
   ]
  },
  {
   "cell_type": "code",
   "execution_count": 31,
   "id": "434d0ef4",
   "metadata": {},
   "outputs": [],
   "source": [
    "# print(os.listdir('../'))\n",
    "label_name_file = json.load(open(file_label_name))\n",
    "label_name = dict()\n",
    "for index, name in label_name_file.items():\n",
    "    label_name[int(index)] = name"
   ]
  },
  {
   "cell_type": "code",
   "execution_count": 33,
   "id": "e2608ea4",
   "metadata": {},
   "outputs": [
    {
     "name": "stdout",
     "output_type": "stream",
     "text": [
      "tensor([-2.5773e-01,  1.4361e-01,  1.8032e-01, -1.9279e-01,  8.1258e-02,\n",
      "         3.4322e-01,  8.5912e-02, -3.2246e-01,  9.6319e-02, -3.8165e-01,\n",
      "        -1.9357e-01, -3.4647e-03,  6.6766e-01,  1.2399e-04,  9.0387e-02,\n",
      "         2.9018e-01, -3.8132e-01,  1.4057e-02,  1.4093e-01, -2.6803e-02,\n",
      "         2.2602e-01,  2.9091e-01, -3.4401e-01, -4.6095e-01,  1.7226e-01,\n",
      "        -6.4986e-01, -4.3400e-02,  1.2568e-01, -1.7274e-01,  5.5117e-01,\n",
      "         3.5063e-01, -2.8268e-01, -1.9970e-01,  4.7886e-01, -1.7630e-01,\n",
      "        -1.3169e-01,  3.1827e-01,  4.1548e-01, -2.0944e-01,  4.8094e-03,\n",
      "         1.0114e-01,  4.7766e-01, -7.4575e-02,  5.1764e-01, -4.5901e-01,\n",
      "        -4.6354e-01, -3.8405e-01, -3.6380e-01, -3.6302e-01, -7.1522e-01,\n",
      "        -1.5808e-01,  1.6427e-01,  3.6361e-02,  1.2154e-01,  1.1389e-01,\n",
      "        -7.0966e-01, -1.9619e-01,  3.5777e-01,  2.6784e-01,  1.3030e-01,\n",
      "         2.5889e-01, -3.4642e-03, -3.8578e-01,  2.0962e-01, -7.4308e-02,\n",
      "         5.2390e-01, -1.5642e-01,  7.1607e-01,  1.1340e-01, -3.9444e-01,\n",
      "        -1.5029e-02,  3.9046e-01, -5.4887e-02,  1.1280e-01, -2.5294e-01,\n",
      "         3.4743e-01,  5.8923e-02,  2.7777e-01,  1.7210e-01,  5.2446e-01,\n",
      "        -4.5084e-01,  5.5659e-01,  5.9646e-01, -3.3755e-01,  2.3221e-01,\n",
      "        -1.0955e+00,  2.9399e-01, -2.7167e-02,  1.7677e-01, -7.1450e-01,\n",
      "        -1.6530e-01,  6.1138e-02, -6.8983e-02, -3.9333e-01, -4.9642e-01,\n",
      "        -2.2581e-01,  1.2952e-02,  3.3770e-01,  7.5997e-03, -8.2286e-02,\n",
      "         1.1214e-03,  2.3836e-01, -2.3860e-01, -1.0713e-01, -3.0321e-01,\n",
      "        -6.3819e-01, -9.4927e-02, -3.8369e-01, -1.6284e-01,  2.2434e-01,\n",
      "        -4.6940e-02,  5.3985e-01,  3.9244e-01, -3.7670e-01,  5.3326e-02,\n",
      "        -3.4855e-01, -4.7090e-01,  1.2745e-01, -6.8977e-01,  1.1485e-01,\n",
      "        -4.3298e-01, -5.9418e-01,  6.1441e-01,  5.8907e-01,  7.3374e-01,\n",
      "         1.7636e-01, -1.0492e-01,  5.6346e-01, -3.8051e-01, -7.5450e-02,\n",
      "        -9.0738e-02, -2.1620e-02, -9.7323e-02,  4.2304e-01,  2.3624e-01,\n",
      "         5.4305e-02, -2.4432e-01, -2.1908e-01, -3.6159e-01, -3.1340e-01,\n",
      "         4.3565e-01,  3.3957e-01, -4.1766e-02,  4.8150e-02,  8.4454e-01,\n",
      "         4.0440e-01,  1.9218e-01, -3.2236e-01,  1.0684e+00,  1.2660e-02,\n",
      "         2.2660e-01,  3.6636e-01, -8.1997e-01,  4.0194e-01, -1.4788e+00,\n",
      "         7.1601e-01,  7.7657e-01, -1.9229e-01, -4.8213e-02,  4.1425e-01,\n",
      "        -3.8503e-01,  3.1584e-01, -5.1416e-01, -3.8853e-01,  1.5886e-01,\n",
      "        -3.0302e-01, -2.7845e-01, -4.2957e-01,  3.9773e-01,  1.6134e-01,\n",
      "        -4.7007e-01, -4.8009e-02, -7.0402e-01,  7.1030e-01,  5.5622e-01,\n",
      "         7.5519e-02, -1.0610e-01, -9.7093e-02, -2.0313e-02,  2.7873e-01,\n",
      "         1.2344e-01,  6.6733e-02,  6.6441e-01, -3.2122e-01, -1.4451e-01,\n",
      "         2.7460e-02,  2.0387e-01, -9.3313e-02,  6.6168e-01, -3.1674e-01,\n",
      "         1.0137e-01,  3.0856e-01, -6.3185e-01,  3.3136e-01, -3.9229e-01,\n",
      "         5.9923e-02,  5.8443e-01, -3.1985e-02, -2.5938e-01, -4.4991e-01,\n",
      "        -4.9332e-01, -1.7867e-01,  1.7770e-01,  1.7451e-01, -1.3582e-03,\n",
      "         5.5648e-01,  6.1945e-02,  1.3064e-01,  1.7235e-01, -3.5321e-02,\n",
      "        -2.3372e-02,  6.5584e-01, -5.6619e-01, -5.4328e-01, -4.2331e-01,\n",
      "         1.1758e-01, -4.6973e-01, -3.2297e-02,  1.4456e-01,  2.7068e-01,\n",
      "        -2.5209e-01, -1.8487e-01, -9.1108e-01, -4.5092e-01, -3.1179e-01,\n",
      "        -1.1890e-01, -4.3365e-01, -4.1955e-01, -3.2406e-01,  4.8594e-01,\n",
      "         4.4170e-02,  1.2953e-01, -1.2927e-01, -3.1803e-01,  1.5557e-01,\n",
      "         4.3227e-01,  5.6040e-01,  4.2009e-01, -3.2088e-01, -6.2137e-01,\n",
      "         1.1067e-01,  1.6767e-01, -1.6700e-01, -1.3757e-01, -1.5424e-01,\n",
      "        -6.2049e-01, -8.0107e-02, -4.3437e-01, -1.2550e-01, -8.7260e-02,\n",
      "         1.1289e-01,  6.7295e-01, -1.0863e+00, -4.3535e-01,  6.2744e-01,\n",
      "        -5.3571e-01, -3.8257e-01,  3.8776e-02,  3.1634e-01, -3.6948e-01,\n",
      "        -3.2445e-02,  4.0740e-01,  2.7445e-01,  1.0816e-01, -2.4146e-01,\n",
      "         1.0660e-01, -3.4589e-03, -5.5735e-02,  5.2935e-02,  4.6180e-01,\n",
      "         9.0078e-02,  4.2522e-01, -1.1534e-01,  2.6409e-01, -3.0189e-01,\n",
      "        -9.0241e-01, -1.0796e-01,  6.3872e-01, -2.8051e-01,  1.6992e-01,\n",
      "         1.1084e-01,  9.2951e-02, -6.8722e-03,  7.9861e-03, -3.7118e-01,\n",
      "        -1.3343e-01,  2.0645e-01, -1.5462e-01, -1.7809e-02, -7.9741e-01,\n",
      "        -2.2721e-01, -9.4926e-02,  1.0703e-01,  4.2788e-01,  2.7855e-01,\n",
      "        -1.9190e-01, -8.5684e-02,  4.4987e-01,  1.5650e-01, -3.8329e-01])\n"
     ]
    }
   ],
   "source": [
    "embedding_name = dict()\n",
    "for index, labels in label_name.items():\n",
    "    emb = vec.get_vecs_by_tokens(labels, lower_case_backup=True)\n",
    "    embedding = emb.sum(0) / emb.size(0)\n",
    "    embedding_name[index - 1] = embedding\n",
    "\n",
    "print(embedding_name[0])"
   ]
  },
  {
   "cell_type": "code",
   "execution_count": 42,
   "id": "7070dcf4",
   "metadata": {},
   "outputs": [
    {
     "name": "stdout",
     "output_type": "stream",
     "text": [
      "(1230, 300)\n"
     ]
    }
   ],
   "source": [
    "emb_name_list = [embedding for _, embedding in embedding_name.items()]\n",
    "emb_name = torch.stack(emb_name_list)\n",
    "emb_name_np = emb_name.numpy()\n",
    "\n"
   ]
  },
  {
   "cell_type": "code",
   "execution_count": null,
   "id": "724ba2e1",
   "metadata": {},
   "outputs": [],
   "source": []
  }
 ],
 "metadata": {
  "kernelspec": {
   "display_name": "Python 3",
   "language": "python",
   "name": "python3"
  },
  "language_info": {
   "codemirror_mode": {
    "name": "ipython",
    "version": 3
   },
   "file_extension": ".py",
   "mimetype": "text/x-python",
   "name": "python",
   "nbconvert_exporter": "python",
   "pygments_lexer": "ipython3",
   "version": "3.6.12"
  }
 },
 "nbformat": 4,
 "nbformat_minor": 5
}
